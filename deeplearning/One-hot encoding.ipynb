{
 "cells": [
  {
   "cell_type": "code",
   "execution_count": 25,
   "metadata": {},
   "outputs": [],
   "source": [
    "import tensorflow as tf\n",
    "\n",
    "# keras의 datasets, layers, models를 이용\n",
    "from tensorflow.keras import datasets, layers, models,optimizers\n",
    "from tensorflow.keras.datasets import imdb\n",
    "\n",
    "import numpy as np\n",
    "import matplotlib.pyplot as plt"
   ]
  },
  {
   "cell_type": "code",
   "execution_count": 14,
   "metadata": {},
   "outputs": [
    {
     "name": "stdout",
     "output_type": "stream",
     "text": [
      "Downloading data from https://storage.googleapis.com/tensorflow/tf-keras-datasets/imdb.npz\n",
      "17465344/17464789 [==============================] - 5s 0us/step\n"
     ]
    }
   ],
   "source": [
    "(train_data, train_labels), (test_data, test_labels) = imdb.load_data(num_words = 10000)"
   ]
  },
  {
   "cell_type": "code",
   "execution_count": 15,
   "metadata": {},
   "outputs": [
    {
     "data": {
      "text/plain": [
       "[1,\n",
       " 14,\n",
       " 22,\n",
       " 16,\n",
       " 43,\n",
       " 530,\n",
       " 973,\n",
       " 1622,\n",
       " 1385,\n",
       " 65,\n",
       " 458,\n",
       " 4468,\n",
       " 66,\n",
       " 3941,\n",
       " 4,\n",
       " 173,\n",
       " 36,\n",
       " 256,\n",
       " 5,\n",
       " 25,\n",
       " 100,\n",
       " 43,\n",
       " 838,\n",
       " 112,\n",
       " 50,\n",
       " 670,\n",
       " 2,\n",
       " 9,\n",
       " 35,\n",
       " 480,\n",
       " 284,\n",
       " 5,\n",
       " 150,\n",
       " 4,\n",
       " 172,\n",
       " 112,\n",
       " 167,\n",
       " 2,\n",
       " 336,\n",
       " 385,\n",
       " 39,\n",
       " 4,\n",
       " 172,\n",
       " 4536,\n",
       " 1111,\n",
       " 17,\n",
       " 546,\n",
       " 38,\n",
       " 13,\n",
       " 447,\n",
       " 4,\n",
       " 192,\n",
       " 50,\n",
       " 16,\n",
       " 6,\n",
       " 147,\n",
       " 2025,\n",
       " 19,\n",
       " 14,\n",
       " 22,\n",
       " 4,\n",
       " 1920,\n",
       " 4613,\n",
       " 469,\n",
       " 4,\n",
       " 22,\n",
       " 71,\n",
       " 87,\n",
       " 12,\n",
       " 16,\n",
       " 43,\n",
       " 530,\n",
       " 38,\n",
       " 76,\n",
       " 15,\n",
       " 13,\n",
       " 1247,\n",
       " 4,\n",
       " 22,\n",
       " 17,\n",
       " 515,\n",
       " 17,\n",
       " 12,\n",
       " 16,\n",
       " 626,\n",
       " 18,\n",
       " 2,\n",
       " 5,\n",
       " 62,\n",
       " 386,\n",
       " 12,\n",
       " 8,\n",
       " 316,\n",
       " 8,\n",
       " 106,\n",
       " 5,\n",
       " 4,\n",
       " 2223,\n",
       " 5244,\n",
       " 16,\n",
       " 480,\n",
       " 66,\n",
       " 3785,\n",
       " 33,\n",
       " 4,\n",
       " 130,\n",
       " 12,\n",
       " 16,\n",
       " 38,\n",
       " 619,\n",
       " 5,\n",
       " 25,\n",
       " 124,\n",
       " 51,\n",
       " 36,\n",
       " 135,\n",
       " 48,\n",
       " 25,\n",
       " 1415,\n",
       " 33,\n",
       " 6,\n",
       " 22,\n",
       " 12,\n",
       " 215,\n",
       " 28,\n",
       " 77,\n",
       " 52,\n",
       " 5,\n",
       " 14,\n",
       " 407,\n",
       " 16,\n",
       " 82,\n",
       " 2,\n",
       " 8,\n",
       " 4,\n",
       " 107,\n",
       " 117,\n",
       " 5952,\n",
       " 15,\n",
       " 256,\n",
       " 4,\n",
       " 2,\n",
       " 7,\n",
       " 3766,\n",
       " 5,\n",
       " 723,\n",
       " 36,\n",
       " 71,\n",
       " 43,\n",
       " 530,\n",
       " 476,\n",
       " 26,\n",
       " 400,\n",
       " 317,\n",
       " 46,\n",
       " 7,\n",
       " 4,\n",
       " 2,\n",
       " 1029,\n",
       " 13,\n",
       " 104,\n",
       " 88,\n",
       " 4,\n",
       " 381,\n",
       " 15,\n",
       " 297,\n",
       " 98,\n",
       " 32,\n",
       " 2071,\n",
       " 56,\n",
       " 26,\n",
       " 141,\n",
       " 6,\n",
       " 194,\n",
       " 7486,\n",
       " 18,\n",
       " 4,\n",
       " 226,\n",
       " 22,\n",
       " 21,\n",
       " 134,\n",
       " 476,\n",
       " 26,\n",
       " 480,\n",
       " 5,\n",
       " 144,\n",
       " 30,\n",
       " 5535,\n",
       " 18,\n",
       " 51,\n",
       " 36,\n",
       " 28,\n",
       " 224,\n",
       " 92,\n",
       " 25,\n",
       " 104,\n",
       " 4,\n",
       " 226,\n",
       " 65,\n",
       " 16,\n",
       " 38,\n",
       " 1334,\n",
       " 88,\n",
       " 12,\n",
       " 16,\n",
       " 283,\n",
       " 5,\n",
       " 16,\n",
       " 4472,\n",
       " 113,\n",
       " 103,\n",
       " 32,\n",
       " 15,\n",
       " 16,\n",
       " 5345,\n",
       " 19,\n",
       " 178,\n",
       " 32]"
      ]
     },
     "execution_count": 15,
     "metadata": {},
     "output_type": "execute_result"
    }
   ],
   "source": [
    "# 첫번재 리뷰의 글 text \n",
    "# 이미 다 벡터로 바뀌어 있다. 각각의 word에 대한 번호라고 생각하면 된다. \n",
    "train_data[0]"
   ]
  },
  {
   "cell_type": "code",
   "execution_count": 16,
   "metadata": {},
   "outputs": [
    {
     "name": "stdout",
     "output_type": "stream",
     "text": [
      "Downloading data from https://storage.googleapis.com/tensorflow/tf-keras-datasets/imdb_word_index.json\n",
      "1646592/1641221 [==============================] - 0s 0us/step\n"
     ]
    }
   ],
   "source": [
    "# apple 이라는 단어를 주면 apple: 15 이가 들어있는 셈!, 거꾸로 15번을 주면 apple을 받아야 함\n",
    "word_index = imdb.get_word_index() # maps words to index, commonly called as w_to_i\n",
    "reverse_word_index = dict( [ (value, key) for (key, value) in word_index.items()] ) # this is just opposite, i_to_w\n",
    "decode_review = ' '.join( [reverse_word_index.get(i - 3, '?') for i in train_data[0] ])"
   ]
  },
  {
   "cell_type": "code",
   "execution_count": 17,
   "metadata": {},
   "outputs": [
    {
     "name": "stdout",
     "output_type": "stream",
     "text": [
      "Encoded Review: \n",
      " [1, 14, 22, 16, 43, 530, 973, 1622, 1385, 65, 458, 4468, 66, 3941, 4, 173, 36, 256, 5, 25, 100, 43, 838, 112, 50, 670, 2, 9, 35, 480, 284, 5, 150, 4, 172, 112, 167, 2, 336, 385, 39, 4, 172, 4536, 1111, 17, 546, 38, 13, 447, 4, 192, 50, 16, 6, 147, 2025, 19, 14, 22, 4, 1920, 4613, 469, 4, 22, 71, 87, 12, 16, 43, 530, 38, 76, 15, 13, 1247, 4, 22, 17, 515, 17, 12, 16, 626, 18, 2, 5, 62, 386, 12, 8, 316, 8, 106, 5, 4, 2223, 5244, 16, 480, 66, 3785, 33, 4, 130, 12, 16, 38, 619, 5, 25, 124, 51, 36, 135, 48, 25, 1415, 33, 6, 22, 12, 215, 28, 77, 52, 5, 14, 407, 16, 82, 2, 8, 4, 107, 117, 5952, 15, 256, 4, 2, 7, 3766, 5, 723, 36, 71, 43, 530, 476, 26, 400, 317, 46, 7, 4, 2, 1029, 13, 104, 88, 4, 381, 15, 297, 98, 32, 2071, 56, 26, 141, 6, 194, 7486, 18, 4, 226, 22, 21, 134, 476, 26, 480, 5, 144, 30, 5535, 18, 51, 36, 28, 224, 92, 25, 104, 4, 226, 65, 16, 38, 1334, 88, 12, 16, 283, 5, 16, 4472, 113, 103, 32, 15, 16, 5345, 19, 178, 32] \n",
      "\n",
      "Decoded Review: \n",
      " ? this film was just brilliant casting location scenery story direction everyone's really suited the part they played and you could just imagine being there robert ? is an amazing actor and now the same being director ? father came from the same scottish island as myself so i loved the fact there was a real connection with this film the witty remarks throughout the film were great it was just brilliant so much that i bought the film as soon as it was released for ? and would recommend it to everyone to watch and the fly fishing was amazing really cried at the end it was so sad and you know what they say if you cry at a film it must have been good and this definitely was also ? to the two little boy's that played the ? of norman and paul they were just brilliant children are often left out of the ? list i think because the stars that play them all grown up are such a big profile for the whole film but these children are amazing and should be praised for what they have done don't you think the whole story was so lovely because it was true and was someone's life after all that was shared with us all \n",
      "\n"
     ]
    }
   ],
   "source": [
    "print(f\"Encoded Review: \\n {train_data[0]} \\n\")\n",
    "print(f\"Decoded Review: \\n {decode_review} \\n\")"
   ]
  },
  {
   "cell_type": "code",
   "execution_count": 18,
   "metadata": {},
   "outputs": [],
   "source": [
    "# sequences 를 one hot encoding으로 ?\n",
    "# sequences를 dimension 10000개 짜리로 바꾸는 one hot encoding을 하고자 함\n",
    "# 10000개짜리 배열을 len(seq)만큼 만드는\n",
    "def vectorize_sequence(sequences, dimension=10000):\n",
    "    results = np.zeros((len(sequences), dimension))\n",
    "    # 0으로 셋팅\n",
    "    for i, sequence in enumerate(sequences):\n",
    "    # sequences들을 돌면서 [i, sequence]값을 1로 바꾸는 것\n",
    "    # 이 안에 [1, 14, 22, 16, 43, 530,....]가 들어가 있었다. 가지고 오면서 이미 num_words는 10000개만 가져왔음\n",
    "    # 처음에는 다 0으로 셋팅 되어있던 것을 ..\n",
    "        results[i,sequence] = 1.\n",
    "    return results"
   ]
  },
  {
   "cell_type": "code",
   "execution_count": 19,
   "metadata": {},
   "outputs": [],
   "source": [
    "x_train = vectorize_sequence(train_data) # mapping one hot encoding to a particular index\n",
    "x_test = vectorize_sequence(test_data) # mapping one hot encoding to a particular index"
   ]
  },
  {
   "cell_type": "code",
   "execution_count": 20,
   "metadata": {},
   "outputs": [
    {
     "name": "stdout",
     "output_type": "stream",
     "text": [
      "A data point appears like [0. 1. 1. ... 0. 0. 0.]\n",
      "Actual appears as: 1.0\n"
     ]
    }
   ],
   "source": [
    "y_train = np.asarray(train_labels).astype('float32')\n",
    "y_test = np.asarray(test_labels).astype('float32')\n",
    "\n",
    "print(f\"A data point appears like {x_train[0]}\")\n",
    "print(f\"Actual appears as: {y_train[0]}\")"
   ]
  },
  {
   "cell_type": "code",
   "execution_count": 21,
   "metadata": {},
   "outputs": [],
   "source": [
    "# Model definition\n",
    "\n",
    "model = models.Sequential()\n",
    "# inpout 은 10,000개 output은 16개 \n",
    "model.add(layers.Dense(16, activation='relu', input_shape=(10000,), name=\"Input_Layer\"))\n",
    "model.add(layers.Dense(16, activation='relu', name=\"Hidden_Layer_1\"))\n",
    "# 그래프 기준으로 0보다 크면 p / 아니면 N\n",
    "model.add(layers.Dense(1, activation='sigmoid', name=\"Output_Layer\"))"
   ]
  },
  {
   "cell_type": "code",
   "execution_count": 22,
   "metadata": {},
   "outputs": [],
   "source": [
    "x_val = x_train[:10000]\n",
    "partial_x_train = x_train[10000:]\n",
    "\n",
    "y_val = y_train[:10000]\n",
    "partial_y_train = y_train[10000:]"
   ]
  },
  {
   "cell_type": "code",
   "execution_count": 23,
   "metadata": {},
   "outputs": [
    {
     "name": "stdout",
     "output_type": "stream",
     "text": [
      "Model: \"sequential\"\n",
      "_________________________________________________________________\n",
      "Layer (type)                 Output Shape              Param #   \n",
      "=================================================================\n",
      "Input_Layer (Dense)          (None, 16)                160016    \n",
      "_________________________________________________________________\n",
      "Hidden_Layer_1 (Dense)       (None, 16)                272       \n",
      "_________________________________________________________________\n",
      "Output_Layer (Dense)         (None, 1)                 17        \n",
      "=================================================================\n",
      "Total params: 160,305\n",
      "Trainable params: 160,305\n",
      "Non-trainable params: 0\n",
      "_________________________________________________________________\n",
      "None\n"
     ]
    }
   ],
   "source": [
    "# Review the model\n",
    "\n",
    "print(model.summary())"
   ]
  },
  {
   "cell_type": "code",
   "execution_count": 26,
   "metadata": {},
   "outputs": [
    {
     "data": {
      "text/plain": [
       "'\\nUsing custom losses and metrics\\nfrom keras import losses\\nfrom keras import metrics\\nmodel.compile(optimizer=optimizers.RMSprop(lr=0.001),\\nloss=losses.binary_crossentropy, metrics=[metrics.binary_accuracy])\\n'"
      ]
     },
     "execution_count": 26,
     "metadata": {},
     "output_type": "execute_result"
    }
   ],
   "source": [
    "# Compiling the model\n",
    "# 왜 아담을 안썼는지?..hyperparmeter\n",
    "model.compile(optimizer=optimizers.RMSprop(lr = 0.001),\n",
    "              loss='binary_crossentropy',\n",
    "                # binary로 나눴기 때문에\n",
    "              metrics=['accuracy'])\n",
    "\n",
    "'''\n",
    "Using custom losses and metrics\n",
    "from keras import losses\n",
    "from keras import metrics\n",
    "model.compile(optimizer=optimizers.RMSprop(lr=0.001),\n",
    "loss=losses.binary_crossentropy, metrics=[metrics.binary_accuracy])\n",
    "'''"
   ]
  },
  {
   "cell_type": "code",
   "execution_count": 33,
   "metadata": {},
   "outputs": [
    {
     "name": "stdout",
     "output_type": "stream",
     "text": [
      "Train on 15000 samples, validate on 10000 samples\n",
      "Epoch 1/20\n",
      "15000/15000 [==============================] - 2s 109us/sample - loss: 0.0799 - accuracy: 0.9741 - val_loss: 0.3522 - val_accuracy: 0.8822\n",
      "Epoch 2/20\n",
      "15000/15000 [==============================] - 1s 78us/sample - loss: 0.0711 - accuracy: 0.9786 - val_loss: 0.3663 - val_accuracy: 0.8816\n",
      "Epoch 3/20\n",
      "15000/15000 [==============================] - 1s 82us/sample - loss: 0.0556 - accuracy: 0.9849 - val_loss: 0.3981 - val_accuracy: 0.8774\n",
      "Epoch 4/20\n",
      "15000/15000 [==============================] - 1s 76us/sample - loss: 0.0450 - accuracy: 0.9896 - val_loss: 0.4251 - val_accuracy: 0.8706\n",
      "Epoch 5/20\n",
      "15000/15000 [==============================] - 1s 79us/sample - loss: 0.0380 - accuracy: 0.9905 - val_loss: 0.4464 - val_accuracy: 0.8753\n",
      "Epoch 6/20\n",
      "15000/15000 [==============================] - 1s 78us/sample - loss: 0.0302 - accuracy: 0.9932 - val_loss: 0.4762 - val_accuracy: 0.8728\n",
      "Epoch 7/20\n",
      "15000/15000 [==============================] - 1s 78us/sample - loss: 0.0224 - accuracy: 0.9961 - val_loss: 0.5521 - val_accuracy: 0.8706\n",
      "Epoch 8/20\n",
      "15000/15000 [==============================] - 1s 79us/sample - loss: 0.0155 - accuracy: 0.9980 - val_loss: 0.5409 - val_accuracy: 0.8707\n",
      "Epoch 9/20\n",
      "15000/15000 [==============================] - 1s 80us/sample - loss: 0.0136 - accuracy: 0.9988 - val_loss: 0.5837 - val_accuracy: 0.8695\n",
      "Epoch 10/20\n",
      "15000/15000 [==============================] - 1s 78us/sample - loss: 0.0133 - accuracy: 0.9969 - val_loss: 0.6167 - val_accuracy: 0.8684\n",
      "Epoch 11/20\n",
      "15000/15000 [==============================] - 1s 79us/sample - loss: 0.0062 - accuracy: 0.9996 - val_loss: 0.6674 - val_accuracy: 0.8669\n",
      "Epoch 12/20\n",
      "15000/15000 [==============================] - 1s 78us/sample - loss: 0.0087 - accuracy: 0.9987 - val_loss: 0.6839 - val_accuracy: 0.8671\n",
      "Epoch 13/20\n",
      "15000/15000 [==============================] - 1s 79us/sample - loss: 0.0033 - accuracy: 0.9999 - val_loss: 0.7137 - val_accuracy: 0.8649\n",
      "Epoch 14/20\n",
      "15000/15000 [==============================] - 1s 79us/sample - loss: 0.0077 - accuracy: 0.9981 - val_loss: 0.7564 - val_accuracy: 0.8675\n",
      "Epoch 15/20\n",
      "15000/15000 [==============================] - 1s 81us/sample - loss: 0.0019 - accuracy: 0.9999 - val_loss: 0.7790 - val_accuracy: 0.8659\n",
      "Epoch 16/20\n",
      "15000/15000 [==============================] - 1s 79us/sample - loss: 0.0047 - accuracy: 0.9991 - val_loss: 0.8193 - val_accuracy: 0.8629\n",
      "Epoch 17/20\n",
      "15000/15000 [==============================] - 1s 80us/sample - loss: 0.0012 - accuracy: 1.0000 - val_loss: 0.8460 - val_accuracy: 0.8637\n",
      "Epoch 18/20\n",
      "15000/15000 [==============================] - 1s 79us/sample - loss: 0.0045 - accuracy: 0.9991 - val_loss: 0.9515 - val_accuracy: 0.8640\n",
      "Epoch 19/20\n",
      "15000/15000 [==============================] - 1s 78us/sample - loss: 7.7613e-04 - accuracy: 1.0000 - val_loss: 0.9052 - val_accuracy: 0.8626\n",
      "Epoch 20/20\n",
      "15000/15000 [==============================] - 1s 71us/sample - loss: 5.7165e-04 - accuracy: 1.0000 - val_loss: 0.9407 - val_accuracy: 0.8618\n"
     ]
    }
   ],
   "source": [
    "history = model.fit(partial_x_train,\n",
    "                    partial_y_train,\n",
    "                    epochs = 20,\n",
    "                    batch_size = 512,\n",
    "                    validation_data = (x_val, y_val))"
   ]
  },
  {
   "cell_type": "code",
   "execution_count": 40,
   "metadata": {},
   "outputs": [
    {
     "data": {
      "text/plain": [
       "<matplotlib.legend.Legend at 0x1441ecd50>"
      ]
     },
     "execution_count": 40,
     "metadata": {},
     "output_type": "execute_result"
    },
    {
     "data": {
      "image/png": "[encoded data removed]",
      "text/plain": [
       "<Figure size 432x288 with 1 Axes>"
      ]
     },
     "metadata": {
      "needs_background": "light"
     },
     "output_type": "display_data"
    }
   ],
   "source": [
    "history_dict = history.history\n",
    "acc = history_dict[\"accuracy\"]\n",
    "val_acc = history_dict[\"val_accuracy\"]\n",
    "loss_values = history_dict['loss']\n",
    "val_loss_values = history_dict['val_loss']\n",
    "\n",
    "epochs = range(1, len(acc) + 1)\n",
    "\n",
    "plt.figure(1)\n",
    "plt.subplot(211)\n",
    "plt.plot(epochs, loss_values, 'bo', label='Training Loss')\n",
    "plt.plot(epochs, val_loss_values, 'b', label='Validation Loss')\n",
    "plt.title('Training and validation loss')\n",
    "plt.ylabel('Loss')\n",
    "plt.legend()"
   ]
  },
  {
   "cell_type": "code",
   "execution_count": 41,
   "metadata": {
    "scrolled": true
   },
   "outputs": [
    {
     "data": {
      "image/png": "[encoded data removed]",
      "text/plain": [
       "<Figure size 432x288 with 1 Axes>"
      ]
     },
     "metadata": {
      "needs_background": "light"
     },
     "output_type": "display_data"
    }
   ],
   "source": [
    "plt.subplot(212)\n",
    "plt.plot(epochs, acc, 'bo', label='Training acc')\n",
    "plt.plot(epochs, val_acc, 'b', label = 'Validation acc')\n",
    "plt.title('Training and validation accuracy')\n",
    "plt.xlabel('Epochs')\n",
    "plt.ylabel('Loss')\n",
    "plt.legend()\n",
    "plt.show()"
   ]
  },
  {
   "cell_type": "code",
   "execution_count": 43,
   "metadata": {},
   "outputs": [
    {
     "name": "stdout",
     "output_type": "stream",
     "text": [
      "Train on 25000 samples\n",
      "Epoch 1/20\n",
      "25000/25000 [==============================] - 1s 55us/sample - loss: 0.2614 - accuracy: 0.9438\n",
      "Epoch 2/20\n",
      "25000/25000 [==============================] - 1s 51us/sample - loss: 0.1427 - accuracy: 0.9582\n",
      "Epoch 3/20\n",
      "25000/25000 [==============================] - 1s 52us/sample - loss: 0.1119 - accuracy: 0.9668\n",
      "Epoch 4/20\n",
      "25000/25000 [==============================] - 1s 52us/sample - loss: 0.0906 - accuracy: 0.9738\n",
      "Epoch 5/20\n",
      "25000/25000 [==============================] - 1s 52us/sample - loss: 0.0733 - accuracy: 0.9785\n",
      "Epoch 6/20\n",
      "25000/25000 [==============================] - 1s 51us/sample - loss: 0.0592 - accuracy: 0.9827\n",
      "Epoch 7/20\n",
      "25000/25000 [==============================] - 1s 53us/sample - loss: 0.0476 - accuracy: 0.9866\n",
      "Epoch 8/20\n",
      "25000/25000 [==============================] - 1s 52us/sample - loss: 0.0373 - accuracy: 0.9900\n",
      "Epoch 9/20\n",
      "25000/25000 [==============================] - 1s 51us/sample - loss: 0.0291 - accuracy: 0.9930\n",
      "Epoch 10/20\n",
      "25000/25000 [==============================] - 1s 53us/sample - loss: 0.0220 - accuracy: 0.9950\n",
      "Epoch 11/20\n",
      "25000/25000 [==============================] - 1s 52us/sample - loss: 0.0165 - accuracy: 0.9964\n",
      "Epoch 12/20\n",
      "25000/25000 [==============================] - 1s 52us/sample - loss: 0.0119 - accuracy: 0.9976\n",
      "Epoch 13/20\n",
      "25000/25000 [==============================] - 1s 51us/sample - loss: 0.0090 - accuracy: 0.9982\n",
      "Epoch 14/20\n",
      "25000/25000 [==============================] - 1s 52us/sample - loss: 0.0057 - accuracy: 0.9990\n",
      "Epoch 15/20\n",
      "25000/25000 [==============================] - 1s 53us/sample - loss: 0.0043 - accuracy: 0.9994\n",
      "Epoch 16/20\n",
      "25000/25000 [==============================] - 1s 55us/sample - loss: 0.0029 - accuracy: 0.9996\n",
      "Epoch 17/20\n",
      "25000/25000 [==============================] - 1s 54us/sample - loss: 0.0017 - accuracy: 0.9998\n",
      "Epoch 18/20\n",
      "25000/25000 [==============================] - 1s 53us/sample - loss: 0.0015 - accuracy: 0.9998\n",
      "Epoch 19/20\n",
      "25000/25000 [==============================] - 1s 53us/sample - loss: 6.2363e-04 - accuracy: 1.0000\n",
      "Epoch 20/20\n",
      "25000/25000 [==============================] - 1s 50us/sample - loss: 0.0011 - accuracy: 0.9999\n",
      "25000/25000 [==============================] - 3s 103us/sample - loss: 1.4645 - accuracy: 0.8482\n"
     ]
    }
   ],
   "source": [
    "# Running Predict\n",
    "model.fit(x_train, y_train, epochs=20, batch_size=512)\n",
    "results = model.evaluate(x_test,y_test)"
   ]
  },
  {
   "cell_type": "code",
   "execution_count": 44,
   "metadata": {},
   "outputs": [
    {
     "data": {
      "text/plain": [
       "[1.4645268909877538, 0.84816]"
      ]
     },
     "execution_count": 44,
     "metadata": {},
     "output_type": "execute_result"
    }
   ],
   "source": [
    "results"
   ]
  }
 ],
 "metadata": {
  "kernelspec": {
   "display_name": "Python 3",
   "language": "python",
   "name": "python3"
  },
  "language_info": {
   "codemirror_mode": {
    "name": "ipython",
    "version": 3
   },
   "file_extension": ".py",
   "mimetype": "text/x-python",
   "name": "python",
   "nbconvert_exporter": "python",
   "pygments_lexer": "ipython3",
   "version": "3.7.6"
  }
 },
 "nbformat": 4,
 "nbformat_minor": 4
}
